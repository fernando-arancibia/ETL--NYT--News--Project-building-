{
 "cells": [
  {
   "cell_type": "code",
   "execution_count": 189,
   "id": "233bef89",
   "metadata": {},
   "outputs": [],
   "source": [
    "import sqlite3\n",
    "import os\n",
    "import pandas as pd\n",
    "import numpy as np"
   ]
  },
  {
   "cell_type": "markdown",
   "id": "3757dbf7",
   "metadata": {},
   "source": [
    "## ======== CREATE DataFrames ========"
   ]
  },
  {
   "cell_type": "code",
   "execution_count": 190,
   "id": "893de13e",
   "metadata": {},
   "outputs": [],
   "source": [
    "#  df_Ar    ==> DataFrame 'article'\n",
    "#  df_Au    ==> DataFrame 'author'\n",
    "#  df_Ar_Au ==> DataFrame 'article_author'"
   ]
  },
  {
   "cell_type": "code",
   "execution_count": 191,
   "id": "43879931",
   "metadata": {},
   "outputs": [],
   "source": [
    "# ===================================\n",
    "#   CREATE DataFrame 'article'\n",
    "# Read csv file with the articles\n",
    "# ==================================="
   ]
  },
  {
   "cell_type": "code",
   "execution_count": 192,
   "id": "2cbdc814",
   "metadata": {},
   "outputs": [
    {
     "data": {
      "text/html": [
       "<div>\n",
       "<style scoped>\n",
       "    .dataframe tbody tr th:only-of-type {\n",
       "        vertical-align: middle;\n",
       "    }\n",
       "\n",
       "    .dataframe tbody tr th {\n",
       "        vertical-align: top;\n",
       "    }\n",
       "\n",
       "    .dataframe thead th {\n",
       "        text-align: right;\n",
       "    }\n",
       "</style>\n",
       "<table border=\"1\" class=\"dataframe\">\n",
       "  <thead>\n",
       "    <tr style=\"text-align: right;\">\n",
       "      <th></th>\n",
       "      <th>_id</th>\n",
       "      <th>abstract</th>\n",
       "      <th>web_url</th>\n",
       "      <th>snippet</th>\n",
       "      <th>lead_paragraph</th>\n",
       "      <th>print_section</th>\n",
       "      <th>print_page</th>\n",
       "      <th>pub_date</th>\n",
       "      <th>document_type</th>\n",
       "      <th>news_desk</th>\n",
       "      <th>section_name</th>\n",
       "      <th>type_of_material</th>\n",
       "      <th>word_count</th>\n",
       "      <th>headline_main</th>\n",
       "      <th>headline_print_headline</th>\n",
       "      <th>byline_original</th>\n",
       "      <th>byline_organization</th>\n",
       "    </tr>\n",
       "  </thead>\n",
       "  <tbody>\n",
       "    <tr>\n",
       "      <th>0</th>\n",
       "      <td>nyt://article/e467c2ae-2df3-5836-a6ca-b23d0d33...</td>\n",
       "      <td>Our president as a terrible toddler.</td>\n",
       "      <td>https://www.nytimes.com/2020/09/30/opinion/pre...</td>\n",
       "      <td>Our president as a terrible toddler.</td>\n",
       "      <td>When the nation looks back on the presidential...</td>\n",
       "      <td>A</td>\n",
       "      <td>27</td>\n",
       "      <td>2020-10-01T00:05:51+0000</td>\n",
       "      <td>article</td>\n",
       "      <td>OpEd</td>\n",
       "      <td>Opinion</td>\n",
       "      <td>Op-Ed</td>\n",
       "      <td>925</td>\n",
       "      <td>Anyone Else Want to See Trump ‘Shut Up’?</td>\n",
       "      <td>Anyone Else Want Trump To ‘Shut Up’?</td>\n",
       "      <td>By Gail Collins</td>\n",
       "      <td>NaN</td>\n",
       "    </tr>\n",
       "    <tr>\n",
       "      <th>1</th>\n",
       "      <td>nyt://article/55c14af4-0542-53ef-80aa-65e2440e...</td>\n",
       "      <td>The Lakers fell into a deficit early but fough...</td>\n",
       "      <td>https://www.nytimes.com/2020/09/30/sports/bask...</td>\n",
       "      <td>The Lakers fell into a deficit early but fough...</td>\n",
       "      <td>LeBron James is not accustomed to Game 1s like...</td>\n",
       "      <td>NaN</td>\n",
       "      <td>NaN</td>\n",
       "      <td>2020-10-01T00:30:45+0000</td>\n",
       "      <td>article</td>\n",
       "      <td>Sports</td>\n",
       "      <td>Sports</td>\n",
       "      <td>News</td>\n",
       "      <td>1723</td>\n",
       "      <td>How the Lakers Beat the Heat in Game 1 of the ...</td>\n",
       "      <td>NaN</td>\n",
       "      <td>By Sopan Deb and Marc Stein</td>\n",
       "      <td>NaN</td>\n",
       "    </tr>\n",
       "    <tr>\n",
       "      <th>2</th>\n",
       "      <td>nyt://article/9a7ef9e0-1334-56b2-a7f1-288c4887...</td>\n",
       "      <td>Instead of condemning violent groups, the pres...</td>\n",
       "      <td>https://www.nytimes.com/2020/09/30/opinion/tru...</td>\n",
       "      <td>Instead of condemning violent groups, the pres...</td>\n",
       "      <td>President Trump didn’t hurt Joe Biden in Tuesd...</td>\n",
       "      <td>A</td>\n",
       "      <td>27</td>\n",
       "      <td>2020-10-01T00:43:28+0000</td>\n",
       "      <td>article</td>\n",
       "      <td>OpEd</td>\n",
       "      <td>Opinion</td>\n",
       "      <td>Op-Ed</td>\n",
       "      <td>902</td>\n",
       "      <td>Trump Calls on Extremists to ‘Stand By’</td>\n",
       "      <td>Trump Calls On Extremists To ‘Stand By’</td>\n",
       "      <td>By Nicholas Kristof</td>\n",
       "      <td>NaN</td>\n",
       "    </tr>\n",
       "  </tbody>\n",
       "</table>\n",
       "</div>"
      ],
      "text/plain": [
       "                                                 _id  \\\n",
       "0  nyt://article/e467c2ae-2df3-5836-a6ca-b23d0d33...   \n",
       "1  nyt://article/55c14af4-0542-53ef-80aa-65e2440e...   \n",
       "2  nyt://article/9a7ef9e0-1334-56b2-a7f1-288c4887...   \n",
       "\n",
       "                                            abstract  \\\n",
       "0               Our president as a terrible toddler.   \n",
       "1  The Lakers fell into a deficit early but fough...   \n",
       "2  Instead of condemning violent groups, the pres...   \n",
       "\n",
       "                                             web_url  \\\n",
       "0  https://www.nytimes.com/2020/09/30/opinion/pre...   \n",
       "1  https://www.nytimes.com/2020/09/30/sports/bask...   \n",
       "2  https://www.nytimes.com/2020/09/30/opinion/tru...   \n",
       "\n",
       "                                             snippet  \\\n",
       "0               Our president as a terrible toddler.   \n",
       "1  The Lakers fell into a deficit early but fough...   \n",
       "2  Instead of condemning violent groups, the pres...   \n",
       "\n",
       "                                      lead_paragraph print_section print_page  \\\n",
       "0  When the nation looks back on the presidential...             A         27   \n",
       "1  LeBron James is not accustomed to Game 1s like...           NaN        NaN   \n",
       "2  President Trump didn’t hurt Joe Biden in Tuesd...             A         27   \n",
       "\n",
       "                   pub_date document_type news_desk section_name  \\\n",
       "0  2020-10-01T00:05:51+0000       article      OpEd      Opinion   \n",
       "1  2020-10-01T00:30:45+0000       article    Sports       Sports   \n",
       "2  2020-10-01T00:43:28+0000       article      OpEd      Opinion   \n",
       "\n",
       "  type_of_material  word_count  \\\n",
       "0            Op-Ed         925   \n",
       "1             News        1723   \n",
       "2            Op-Ed         902   \n",
       "\n",
       "                                       headline_main  \\\n",
       "0           Anyone Else Want to See Trump ‘Shut Up’?   \n",
       "1  How the Lakers Beat the Heat in Game 1 of the ...   \n",
       "2            Trump Calls on Extremists to ‘Stand By’   \n",
       "\n",
       "                   headline_print_headline              byline_original  \\\n",
       "0     Anyone Else Want Trump To ‘Shut Up’?              By Gail Collins   \n",
       "1                                      NaN  By Sopan Deb and Marc Stein   \n",
       "2  Trump Calls On Extremists To ‘Stand By’          By Nicholas Kristof   \n",
       "\n",
       "  byline_organization  \n",
       "0                 NaN  \n",
       "1                 NaN  \n",
       "2                 NaN  "
      ]
     },
     "execution_count": 192,
     "metadata": {},
     "output_type": "execute_result"
    }
   ],
   "source": [
    "# Read csv to DataFrame\n",
    "df_Ar = pd.read_csv ('./nyt_csv_files/nyt_data_raw.csv', low_memory=False)\n",
    "df_Ar.head(3)"
   ]
  },
  {
   "cell_type": "code",
   "execution_count": 193,
   "id": "cad6c204",
   "metadata": {},
   "outputs": [],
   "source": [
    "# Separate date and time. \n",
    "# Create two new columns\n",
    "df_Ar['a_date'] = pd.to_datetime(df_Ar['pub_date']).dt.date\n",
    "df_Ar['a_time'] = pd.to_datetime(df_Ar['pub_date']).dt.time"
   ]
  },
  {
   "cell_type": "code",
   "execution_count": 194,
   "id": "61995633",
   "metadata": {},
   "outputs": [
    {
     "data": {
      "text/html": [
       "<div>\n",
       "<style scoped>\n",
       "    .dataframe tbody tr th:only-of-type {\n",
       "        vertical-align: middle;\n",
       "    }\n",
       "\n",
       "    .dataframe tbody tr th {\n",
       "        vertical-align: top;\n",
       "    }\n",
       "\n",
       "    .dataframe thead th {\n",
       "        text-align: right;\n",
       "    }\n",
       "</style>\n",
       "<table border=\"1\" class=\"dataframe\">\n",
       "  <thead>\n",
       "    <tr style=\"text-align: right;\">\n",
       "      <th></th>\n",
       "      <th>_id</th>\n",
       "      <th>abstract</th>\n",
       "      <th>web_url</th>\n",
       "      <th>snippet</th>\n",
       "      <th>lead_paragraph</th>\n",
       "      <th>print_section</th>\n",
       "      <th>print_page</th>\n",
       "      <th>pub_date</th>\n",
       "      <th>document_type</th>\n",
       "      <th>news_desk</th>\n",
       "      <th>section_name</th>\n",
       "      <th>type_of_material</th>\n",
       "      <th>word_count</th>\n",
       "      <th>headline_main</th>\n",
       "      <th>headline_print_headline</th>\n",
       "      <th>byline_original</th>\n",
       "      <th>byline_organization</th>\n",
       "      <th>a_date</th>\n",
       "      <th>a_time</th>\n",
       "      <th>authors</th>\n",
       "    </tr>\n",
       "  </thead>\n",
       "  <tbody>\n",
       "    <tr>\n",
       "      <th>0</th>\n",
       "      <td>nyt://article/e467c2ae-2df3-5836-a6ca-b23d0d33...</td>\n",
       "      <td>Our president as a terrible toddler.</td>\n",
       "      <td>https://www.nytimes.com/2020/09/30/opinion/pre...</td>\n",
       "      <td>Our president as a terrible toddler.</td>\n",
       "      <td>When the nation looks back on the presidential...</td>\n",
       "      <td>A</td>\n",
       "      <td>27</td>\n",
       "      <td>2020-10-01T00:05:51+0000</td>\n",
       "      <td>article</td>\n",
       "      <td>OpEd</td>\n",
       "      <td>Opinion</td>\n",
       "      <td>Op-Ed</td>\n",
       "      <td>925</td>\n",
       "      <td>Anyone Else Want to See Trump ‘Shut Up’?</td>\n",
       "      <td>Anyone Else Want Trump To ‘Shut Up’?</td>\n",
       "      <td>By Gail Collins</td>\n",
       "      <td>NaN</td>\n",
       "      <td>2020-10-01</td>\n",
       "      <td>00:05:51</td>\n",
       "      <td>Gail Collins</td>\n",
       "    </tr>\n",
       "    <tr>\n",
       "      <th>1</th>\n",
       "      <td>nyt://article/55c14af4-0542-53ef-80aa-65e2440e...</td>\n",
       "      <td>The Lakers fell into a deficit early but fough...</td>\n",
       "      <td>https://www.nytimes.com/2020/09/30/sports/bask...</td>\n",
       "      <td>The Lakers fell into a deficit early but fough...</td>\n",
       "      <td>LeBron James is not accustomed to Game 1s like...</td>\n",
       "      <td>NaN</td>\n",
       "      <td>NaN</td>\n",
       "      <td>2020-10-01T00:30:45+0000</td>\n",
       "      <td>article</td>\n",
       "      <td>Sports</td>\n",
       "      <td>Sports</td>\n",
       "      <td>News</td>\n",
       "      <td>1723</td>\n",
       "      <td>How the Lakers Beat the Heat in Game 1 of the ...</td>\n",
       "      <td>NaN</td>\n",
       "      <td>By Sopan Deb and Marc Stein</td>\n",
       "      <td>NaN</td>\n",
       "      <td>2020-10-01</td>\n",
       "      <td>00:30:45</td>\n",
       "      <td>Sopan Deb, Marc Stein</td>\n",
       "    </tr>\n",
       "    <tr>\n",
       "      <th>2</th>\n",
       "      <td>nyt://article/9a7ef9e0-1334-56b2-a7f1-288c4887...</td>\n",
       "      <td>Instead of condemning violent groups, the pres...</td>\n",
       "      <td>https://www.nytimes.com/2020/09/30/opinion/tru...</td>\n",
       "      <td>Instead of condemning violent groups, the pres...</td>\n",
       "      <td>President Trump didn’t hurt Joe Biden in Tuesd...</td>\n",
       "      <td>A</td>\n",
       "      <td>27</td>\n",
       "      <td>2020-10-01T00:43:28+0000</td>\n",
       "      <td>article</td>\n",
       "      <td>OpEd</td>\n",
       "      <td>Opinion</td>\n",
       "      <td>Op-Ed</td>\n",
       "      <td>902</td>\n",
       "      <td>Trump Calls on Extremists to ‘Stand By’</td>\n",
       "      <td>Trump Calls On Extremists To ‘Stand By’</td>\n",
       "      <td>By Nicholas Kristof</td>\n",
       "      <td>NaN</td>\n",
       "      <td>2020-10-01</td>\n",
       "      <td>00:43:28</td>\n",
       "      <td>Nicholas Kristof</td>\n",
       "    </tr>\n",
       "    <tr>\n",
       "      <th>3</th>\n",
       "      <td>nyt://article/ecb7bde1-76af-5954-8cf3-9ad84b15...</td>\n",
       "      <td>Facebook on Wednesday said it would prohibit t...</td>\n",
       "      <td>https://www.nytimes.com/2020/09/30/us/election...</td>\n",
       "      <td>NaN</td>\n",
       "      <td>Facebook on Wednesday said it would prohibit t...</td>\n",
       "      <td>NaN</td>\n",
       "      <td>NaN</td>\n",
       "      <td>2020-10-01T00:45:04+0000</td>\n",
       "      <td>article</td>\n",
       "      <td>Politics</td>\n",
       "      <td>U.S.</td>\n",
       "      <td>News</td>\n",
       "      <td>350</td>\n",
       "      <td>Facebook will forbid ads that undermine the le...</td>\n",
       "      <td>NaN</td>\n",
       "      <td>By Mike Isaac</td>\n",
       "      <td>NaN</td>\n",
       "      <td>2020-10-01</td>\n",
       "      <td>00:45:04</td>\n",
       "      <td>Mike Isaac</td>\n",
       "    </tr>\n",
       "    <tr>\n",
       "      <th>4</th>\n",
       "      <td>nyt://article/4bb2b763-0088-5e10-b204-19e404f7...</td>\n",
       "      <td>If the Democratic Party claims to value Black ...</td>\n",
       "      <td>https://www.nytimes.com/2020/09/30/opinion/mik...</td>\n",
       "      <td>If the Democratic Party claims to value Black ...</td>\n",
       "      <td>At the end of the Civil War in 1865, Mississip...</td>\n",
       "      <td>A</td>\n",
       "      <td>22</td>\n",
       "      <td>2020-10-01T00:45:17+0000</td>\n",
       "      <td>article</td>\n",
       "      <td>OpEd</td>\n",
       "      <td>Opinion</td>\n",
       "      <td>Op-Ed</td>\n",
       "      <td>1412</td>\n",
       "      <td>Can Mike Espy Make History, Again?</td>\n",
       "      <td>Can Mike Espy Make History, Again?</td>\n",
       "      <td>By Charles M. Blow</td>\n",
       "      <td>NaN</td>\n",
       "      <td>2020-10-01</td>\n",
       "      <td>00:45:17</td>\n",
       "      <td>Charles M. Blow</td>\n",
       "    </tr>\n",
       "  </tbody>\n",
       "</table>\n",
       "</div>"
      ],
      "text/plain": [
       "                                                 _id  \\\n",
       "0  nyt://article/e467c2ae-2df3-5836-a6ca-b23d0d33...   \n",
       "1  nyt://article/55c14af4-0542-53ef-80aa-65e2440e...   \n",
       "2  nyt://article/9a7ef9e0-1334-56b2-a7f1-288c4887...   \n",
       "3  nyt://article/ecb7bde1-76af-5954-8cf3-9ad84b15...   \n",
       "4  nyt://article/4bb2b763-0088-5e10-b204-19e404f7...   \n",
       "\n",
       "                                            abstract  \\\n",
       "0               Our president as a terrible toddler.   \n",
       "1  The Lakers fell into a deficit early but fough...   \n",
       "2  Instead of condemning violent groups, the pres...   \n",
       "3  Facebook on Wednesday said it would prohibit t...   \n",
       "4  If the Democratic Party claims to value Black ...   \n",
       "\n",
       "                                             web_url  \\\n",
       "0  https://www.nytimes.com/2020/09/30/opinion/pre...   \n",
       "1  https://www.nytimes.com/2020/09/30/sports/bask...   \n",
       "2  https://www.nytimes.com/2020/09/30/opinion/tru...   \n",
       "3  https://www.nytimes.com/2020/09/30/us/election...   \n",
       "4  https://www.nytimes.com/2020/09/30/opinion/mik...   \n",
       "\n",
       "                                             snippet  \\\n",
       "0               Our president as a terrible toddler.   \n",
       "1  The Lakers fell into a deficit early but fough...   \n",
       "2  Instead of condemning violent groups, the pres...   \n",
       "3                                                NaN   \n",
       "4  If the Democratic Party claims to value Black ...   \n",
       "\n",
       "                                      lead_paragraph print_section print_page  \\\n",
       "0  When the nation looks back on the presidential...             A         27   \n",
       "1  LeBron James is not accustomed to Game 1s like...           NaN        NaN   \n",
       "2  President Trump didn’t hurt Joe Biden in Tuesd...             A         27   \n",
       "3  Facebook on Wednesday said it would prohibit t...           NaN        NaN   \n",
       "4  At the end of the Civil War in 1865, Mississip...             A         22   \n",
       "\n",
       "                   pub_date document_type news_desk section_name  \\\n",
       "0  2020-10-01T00:05:51+0000       article      OpEd      Opinion   \n",
       "1  2020-10-01T00:30:45+0000       article    Sports       Sports   \n",
       "2  2020-10-01T00:43:28+0000       article      OpEd      Opinion   \n",
       "3  2020-10-01T00:45:04+0000       article  Politics         U.S.   \n",
       "4  2020-10-01T00:45:17+0000       article      OpEd      Opinion   \n",
       "\n",
       "  type_of_material  word_count  \\\n",
       "0            Op-Ed         925   \n",
       "1             News        1723   \n",
       "2            Op-Ed         902   \n",
       "3             News         350   \n",
       "4            Op-Ed        1412   \n",
       "\n",
       "                                       headline_main  \\\n",
       "0           Anyone Else Want to See Trump ‘Shut Up’?   \n",
       "1  How the Lakers Beat the Heat in Game 1 of the ...   \n",
       "2            Trump Calls on Extremists to ‘Stand By’   \n",
       "3  Facebook will forbid ads that undermine the le...   \n",
       "4                 Can Mike Espy Make History, Again?   \n",
       "\n",
       "                   headline_print_headline              byline_original  \\\n",
       "0     Anyone Else Want Trump To ‘Shut Up’?              By Gail Collins   \n",
       "1                                      NaN  By Sopan Deb and Marc Stein   \n",
       "2  Trump Calls On Extremists To ‘Stand By’          By Nicholas Kristof   \n",
       "3                                      NaN                By Mike Isaac   \n",
       "4       Can Mike Espy Make History, Again?           By Charles M. Blow   \n",
       "\n",
       "  byline_organization      a_date    a_time                authors  \n",
       "0                 NaN  2020-10-01  00:05:51           Gail Collins  \n",
       "1                 NaN  2020-10-01  00:30:45  Sopan Deb, Marc Stein  \n",
       "2                 NaN  2020-10-01  00:43:28       Nicholas Kristof  \n",
       "3                 NaN  2020-10-01  00:45:04             Mike Isaac  \n",
       "4                 NaN  2020-10-01  00:45:17        Charles M. Blow  "
      ]
     },
     "execution_count": 194,
     "metadata": {},
     "output_type": "execute_result"
    }
   ],
   "source": [
    "# Create a new column of authors \n",
    "# separated by comma\n",
    "# and CLEAN the authors column\n",
    "\n",
    "# '^By.*Ezra Klein Show.*$': 'The Ezra Klein Show',  \n",
    "    \n",
    "dic = { # Strings at the start \n",
    "        'By '              : '',\n",
    "        'By ‘'             : '',\n",
    "        'Show.$'           : 'Show',     # I does not work. Why???     \n",
    "        'Text by '         : '',\n",
    "        'Video by '        : '',\n",
    "        'Videos by '       : '',\n",
    "        'Written by '      : '', \n",
    "        'Compiled by '     : '',\n",
    "        'Artwork by '      : '',\n",
    "        'Produced by '     : '',\n",
    "        'Reporting by '    : '',\n",
    "        'Selected by '     : '',\n",
    "        'Photographs by '  : '',\n",
    "        'Interviews by '   : '',\n",
    "        'Interviews by '   : '',\n",
    "        'Introduction by ' : '',\n",
    "        'Photo Essay by '  : '',\n",
    "        'Illustrations by ': '',\n",
    "        'Photographs, Text by ': '',\n",
    "       \n",
    "        # Strings in the middle\n",
    "        ' Text by '        : '',\n",
    "        ' Video by '       : '',\n",
    "        ' posters by '     : '',\n",
    "        ' Flowers by '     : '',\n",
    "        ' photographs by ' : '',\n",
    "\n",
    "        # Strings in the middle that need to be replaced with ,\n",
    "        '\\;'                      : ',',\n",
    "        ' and '                  : ', ',\n",
    "        ' with Text by '         : ', ',\n",
    "        ' with Photographs by '  : ', ',\n",
    "       \n",
    "        # Strings at the end\n",
    "        ' for The New York Times': '',\n",
    "        ' For The New York Times': ''\n",
    "      }\n",
    "\n",
    "#dic = {r\"\\b{}\\b\".format(k): v for k, v in dic.items()}\n",
    "\n",
    "df_Ar['authors'] = df_Ar['byline_original'].replace(dic, regex=True)\n",
    "df_Ar.head()"
   ]
  },
  {
   "cell_type": "code",
   "execution_count": 195,
   "id": "2f9eae3d",
   "metadata": {},
   "outputs": [
    {
     "data": {
      "text/html": [
       "<div>\n",
       "<style scoped>\n",
       "    .dataframe tbody tr th:only-of-type {\n",
       "        vertical-align: middle;\n",
       "    }\n",
       "\n",
       "    .dataframe tbody tr th {\n",
       "        vertical-align: top;\n",
       "    }\n",
       "\n",
       "    .dataframe thead th {\n",
       "        text-align: right;\n",
       "    }\n",
       "</style>\n",
       "<table border=\"1\" class=\"dataframe\">\n",
       "  <thead>\n",
       "    <tr style=\"text-align: right;\">\n",
       "      <th></th>\n",
       "      <th>article_id</th>\n",
       "      <th>original_id</th>\n",
       "      <th>abstract</th>\n",
       "      <th>web_url</th>\n",
       "      <th>snippet</th>\n",
       "      <th>lead_paragraph</th>\n",
       "      <th>print_section</th>\n",
       "      <th>print_page</th>\n",
       "      <th>pub_date</th>\n",
       "      <th>document_type</th>\n",
       "      <th>...</th>\n",
       "      <th>section_name</th>\n",
       "      <th>type_of_material</th>\n",
       "      <th>word_count</th>\n",
       "      <th>headline_main</th>\n",
       "      <th>headline_print_headline</th>\n",
       "      <th>byline_original</th>\n",
       "      <th>byline_organization</th>\n",
       "      <th>a_date</th>\n",
       "      <th>a_time</th>\n",
       "      <th>authors</th>\n",
       "    </tr>\n",
       "  </thead>\n",
       "  <tbody>\n",
       "    <tr>\n",
       "      <th>0</th>\n",
       "      <td>0</td>\n",
       "      <td>nyt://article/e467c2ae-2df3-5836-a6ca-b23d0d33...</td>\n",
       "      <td>Our president as a terrible toddler.</td>\n",
       "      <td>https://www.nytimes.com/2020/09/30/opinion/pre...</td>\n",
       "      <td>Our president as a terrible toddler.</td>\n",
       "      <td>When the nation looks back on the presidential...</td>\n",
       "      <td>A</td>\n",
       "      <td>27</td>\n",
       "      <td>2020-10-01T00:05:51+0000</td>\n",
       "      <td>article</td>\n",
       "      <td>...</td>\n",
       "      <td>Opinion</td>\n",
       "      <td>Op-Ed</td>\n",
       "      <td>925</td>\n",
       "      <td>Anyone Else Want to See Trump ‘Shut Up’?</td>\n",
       "      <td>Anyone Else Want Trump To ‘Shut Up’?</td>\n",
       "      <td>By Gail Collins</td>\n",
       "      <td>NaN</td>\n",
       "      <td>2020-10-01</td>\n",
       "      <td>00:05:51</td>\n",
       "      <td>Gail Collins</td>\n",
       "    </tr>\n",
       "    <tr>\n",
       "      <th>1</th>\n",
       "      <td>1</td>\n",
       "      <td>nyt://article/55c14af4-0542-53ef-80aa-65e2440e...</td>\n",
       "      <td>The Lakers fell into a deficit early but fough...</td>\n",
       "      <td>https://www.nytimes.com/2020/09/30/sports/bask...</td>\n",
       "      <td>The Lakers fell into a deficit early but fough...</td>\n",
       "      <td>LeBron James is not accustomed to Game 1s like...</td>\n",
       "      <td>NaN</td>\n",
       "      <td>NaN</td>\n",
       "      <td>2020-10-01T00:30:45+0000</td>\n",
       "      <td>article</td>\n",
       "      <td>...</td>\n",
       "      <td>Sports</td>\n",
       "      <td>News</td>\n",
       "      <td>1723</td>\n",
       "      <td>How the Lakers Beat the Heat in Game 1 of the ...</td>\n",
       "      <td>NaN</td>\n",
       "      <td>By Sopan Deb and Marc Stein</td>\n",
       "      <td>NaN</td>\n",
       "      <td>2020-10-01</td>\n",
       "      <td>00:30:45</td>\n",
       "      <td>Sopan Deb, Marc Stein</td>\n",
       "    </tr>\n",
       "    <tr>\n",
       "      <th>2</th>\n",
       "      <td>2</td>\n",
       "      <td>nyt://article/9a7ef9e0-1334-56b2-a7f1-288c4887...</td>\n",
       "      <td>Instead of condemning violent groups, the pres...</td>\n",
       "      <td>https://www.nytimes.com/2020/09/30/opinion/tru...</td>\n",
       "      <td>Instead of condemning violent groups, the pres...</td>\n",
       "      <td>President Trump didn’t hurt Joe Biden in Tuesd...</td>\n",
       "      <td>A</td>\n",
       "      <td>27</td>\n",
       "      <td>2020-10-01T00:43:28+0000</td>\n",
       "      <td>article</td>\n",
       "      <td>...</td>\n",
       "      <td>Opinion</td>\n",
       "      <td>Op-Ed</td>\n",
       "      <td>902</td>\n",
       "      <td>Trump Calls on Extremists to ‘Stand By’</td>\n",
       "      <td>Trump Calls On Extremists To ‘Stand By’</td>\n",
       "      <td>By Nicholas Kristof</td>\n",
       "      <td>NaN</td>\n",
       "      <td>2020-10-01</td>\n",
       "      <td>00:43:28</td>\n",
       "      <td>Nicholas Kristof</td>\n",
       "    </tr>\n",
       "  </tbody>\n",
       "</table>\n",
       "<p>3 rows × 21 columns</p>\n",
       "</div>"
      ],
      "text/plain": [
       "   article_id                                        original_id  \\\n",
       "0           0  nyt://article/e467c2ae-2df3-5836-a6ca-b23d0d33...   \n",
       "1           1  nyt://article/55c14af4-0542-53ef-80aa-65e2440e...   \n",
       "2           2  nyt://article/9a7ef9e0-1334-56b2-a7f1-288c4887...   \n",
       "\n",
       "                                            abstract  \\\n",
       "0               Our president as a terrible toddler.   \n",
       "1  The Lakers fell into a deficit early but fough...   \n",
       "2  Instead of condemning violent groups, the pres...   \n",
       "\n",
       "                                             web_url  \\\n",
       "0  https://www.nytimes.com/2020/09/30/opinion/pre...   \n",
       "1  https://www.nytimes.com/2020/09/30/sports/bask...   \n",
       "2  https://www.nytimes.com/2020/09/30/opinion/tru...   \n",
       "\n",
       "                                             snippet  \\\n",
       "0               Our president as a terrible toddler.   \n",
       "1  The Lakers fell into a deficit early but fough...   \n",
       "2  Instead of condemning violent groups, the pres...   \n",
       "\n",
       "                                      lead_paragraph print_section print_page  \\\n",
       "0  When the nation looks back on the presidential...             A         27   \n",
       "1  LeBron James is not accustomed to Game 1s like...           NaN        NaN   \n",
       "2  President Trump didn’t hurt Joe Biden in Tuesd...             A         27   \n",
       "\n",
       "                   pub_date document_type  ... section_name type_of_material  \\\n",
       "0  2020-10-01T00:05:51+0000       article  ...      Opinion            Op-Ed   \n",
       "1  2020-10-01T00:30:45+0000       article  ...       Sports             News   \n",
       "2  2020-10-01T00:43:28+0000       article  ...      Opinion            Op-Ed   \n",
       "\n",
       "  word_count                                      headline_main  \\\n",
       "0        925           Anyone Else Want to See Trump ‘Shut Up’?   \n",
       "1       1723  How the Lakers Beat the Heat in Game 1 of the ...   \n",
       "2        902            Trump Calls on Extremists to ‘Stand By’   \n",
       "\n",
       "                   headline_print_headline              byline_original  \\\n",
       "0     Anyone Else Want Trump To ‘Shut Up’?              By Gail Collins   \n",
       "1                                      NaN  By Sopan Deb and Marc Stein   \n",
       "2  Trump Calls On Extremists To ‘Stand By’          By Nicholas Kristof   \n",
       "\n",
       "  byline_organization      a_date    a_time                authors  \n",
       "0                 NaN  2020-10-01  00:05:51           Gail Collins  \n",
       "1                 NaN  2020-10-01  00:30:45  Sopan Deb, Marc Stein  \n",
       "2                 NaN  2020-10-01  00:43:28       Nicholas Kristof  \n",
       "\n",
       "[3 rows x 21 columns]"
      ]
     },
     "execution_count": 195,
     "metadata": {},
     "output_type": "execute_result"
    }
   ],
   "source": [
    "# Create a row index. from 0 to ...\n",
    "\n",
    "# Reset index, BUT save old\n",
    "df_Ar = df_Ar.reset_index()\n",
    "\n",
    "# Rename columns\n",
    "df_Ar.rename(columns={'index': 'article_id', '_id': 'original_id'}, inplace=True)\n",
    "\n",
    "# Write DataFrame to csv file\n",
    "df_Ar.to_csv('./nyt_csv_files/nyt_data_test.csv', index=False)\n",
    "\n",
    "df_Ar.head(3)"
   ]
  },
  {
   "cell_type": "code",
   "execution_count": 196,
   "id": "544c3eb8",
   "metadata": {},
   "outputs": [
    {
     "name": "stdout",
     "output_type": "stream",
     "text": [
      "(144895, 2)\n"
     ]
    },
    {
     "data": {
      "text/html": [
       "<div>\n",
       "<style scoped>\n",
       "    .dataframe tbody tr th:only-of-type {\n",
       "        vertical-align: middle;\n",
       "    }\n",
       "\n",
       "    .dataframe tbody tr th {\n",
       "        vertical-align: top;\n",
       "    }\n",
       "\n",
       "    .dataframe thead th {\n",
       "        text-align: right;\n",
       "    }\n",
       "</style>\n",
       "<table border=\"1\" class=\"dataframe\">\n",
       "  <thead>\n",
       "    <tr style=\"text-align: right;\">\n",
       "      <th></th>\n",
       "      <th>article_id</th>\n",
       "      <th>author_name</th>\n",
       "    </tr>\n",
       "  </thead>\n",
       "  <tbody>\n",
       "    <tr>\n",
       "      <th>0</th>\n",
       "      <td>0</td>\n",
       "      <td>Gail Collins</td>\n",
       "    </tr>\n",
       "    <tr>\n",
       "      <th>1</th>\n",
       "      <td>1</td>\n",
       "      <td>Sopan Deb</td>\n",
       "    </tr>\n",
       "    <tr>\n",
       "      <th>2</th>\n",
       "      <td>1</td>\n",
       "      <td>Marc Stein</td>\n",
       "    </tr>\n",
       "    <tr>\n",
       "      <th>3</th>\n",
       "      <td>2</td>\n",
       "      <td>Nicholas Kristof</td>\n",
       "    </tr>\n",
       "    <tr>\n",
       "      <th>4</th>\n",
       "      <td>3</td>\n",
       "      <td>Mike Isaac</td>\n",
       "    </tr>\n",
       "  </tbody>\n",
       "</table>\n",
       "</div>"
      ],
      "text/plain": [
       "   article_id       author_name\n",
       "0           0      Gail Collins\n",
       "1           1         Sopan Deb\n",
       "2           1        Marc Stein\n",
       "3           2  Nicholas Kristof\n",
       "4           3        Mike Isaac"
      ]
     },
     "execution_count": 196,
     "metadata": {},
     "output_type": "execute_result"
    }
   ],
   "source": [
    "# ===================================\n",
    "#   CREATE DataFrame 'article_author'\n",
    "# ===================================\n",
    "\n",
    "df_temp = df_Ar[['authors']].copy()\n",
    "\n",
    "df_Ar_Au = df_temp.set_index(['authors'])\n",
    "\n",
    "# explode: Transform each element of a list-like to a row, replicating index values.\n",
    "df_Ar_Au = df_temp.apply(lambda x: x.str.split(',').explode())\n",
    "\n",
    "\n",
    "##  CLEAN authors column\n",
    "\n",
    "# Trim head and tail from white spaces\n",
    "df_Ar_Au.authors = df_Ar_Au.authors.str.strip() \n",
    "\n",
    "# Let only one whitespace between words\n",
    "df_Ar_Au.authors = df_Ar_Au.authors.replace(r'\\s+', ' ', regex=True) \n",
    "\n",
    "# Index it, BUT save OLD index, that is the index of the article table!!!\n",
    "df_Ar_Au = df_Ar_Au.reset_index()\n",
    "\n",
    "# Replace where author is empty with a NaN\n",
    "# and then drop the rows with NaN value\n",
    "df_Ar_Au.authors.replace('', np.nan, inplace=True)\n",
    "df_Ar_Au.dropna(subset=['authors'], inplace=True)\n",
    "\n",
    "\n",
    "## RENAME columns\n",
    "df_Ar_Au.rename(columns={'index': 'article_id', 'authors': 'author_name'}, inplace=True)\n",
    "\n",
    "# find duplicates\n",
    "# df_Ar_Au[df_Ar_Au.duplicated(['article_id', 'author_name'], keep = 'last')]\n",
    "\n",
    "# Drop duplicates \n",
    "# because in the original set the authors are Greta Rybus, Galen Koch, Greta Rybus\n",
    "# two time Greta Rybus\n",
    "df_Ar_Au = df_Ar_Au.drop_duplicates()\n",
    "\n",
    "print(df_Ar_Au.shape)\n",
    "\n",
    "df_Ar_Au.head(5)\n",
    "\n",
    "# Con NaN (158016, 1)\n",
    "# Sin NaN (144898, 2)"
   ]
  },
  {
   "cell_type": "code",
   "execution_count": 197,
   "id": "2b8ecd33",
   "metadata": {},
   "outputs": [
    {
     "name": "stdout",
     "output_type": "stream",
     "text": [
      "(10442, 2)\n"
     ]
    },
    {
     "data": {
      "text/html": [
       "<div>\n",
       "<style scoped>\n",
       "    .dataframe tbody tr th:only-of-type {\n",
       "        vertical-align: middle;\n",
       "    }\n",
       "\n",
       "    .dataframe tbody tr th {\n",
       "        vertical-align: top;\n",
       "    }\n",
       "\n",
       "    .dataframe thead th {\n",
       "        text-align: right;\n",
       "    }\n",
       "</style>\n",
       "<table border=\"1\" class=\"dataframe\">\n",
       "  <thead>\n",
       "    <tr style=\"text-align: right;\">\n",
       "      <th></th>\n",
       "      <th>author_id</th>\n",
       "      <th>author_name</th>\n",
       "    </tr>\n",
       "  </thead>\n",
       "  <tbody>\n",
       "    <tr>\n",
       "      <th>0</th>\n",
       "      <td>0</td>\n",
       "      <td>Gail Collins</td>\n",
       "    </tr>\n",
       "    <tr>\n",
       "      <th>1</th>\n",
       "      <td>1</td>\n",
       "      <td>Sopan Deb</td>\n",
       "    </tr>\n",
       "    <tr>\n",
       "      <th>2</th>\n",
       "      <td>2</td>\n",
       "      <td>Marc Stein</td>\n",
       "    </tr>\n",
       "    <tr>\n",
       "      <th>3</th>\n",
       "      <td>3</td>\n",
       "      <td>Nicholas Kristof</td>\n",
       "    </tr>\n",
       "    <tr>\n",
       "      <th>4</th>\n",
       "      <td>4</td>\n",
       "      <td>Mike Isaac</td>\n",
       "    </tr>\n",
       "  </tbody>\n",
       "</table>\n",
       "</div>"
      ],
      "text/plain": [
       "   author_id       author_name\n",
       "0          0      Gail Collins\n",
       "1          1         Sopan Deb\n",
       "2          2        Marc Stein\n",
       "3          3  Nicholas Kristof\n",
       "4          4        Mike Isaac"
      ]
     },
     "execution_count": 197,
     "metadata": {},
     "output_type": "execute_result"
    }
   ],
   "source": [
    "# ===================================\n",
    "#   CREATE DataFrame 'author'\n",
    "# ===================================\n",
    "\n",
    "# Find unique authors  # Total 10446\n",
    "unique_authors_list = df_Ar_Au.author_name.unique()\n",
    "\n",
    "# Create DataFrame with Unique authors\n",
    "df_Au = pd.DataFrame(unique_authors_list, columns =['author_name'])\n",
    "\n",
    "# Reset index, BUT save old\n",
    "df_Au = df_Au.reset_index()\n",
    "\n",
    "# Rename columns\n",
    "df_Au.rename(columns={'index': 'author_id'}, inplace=True)\n",
    "\n",
    "print(df_Au.shape)\n",
    "df_Au.head()"
   ]
  },
  {
   "cell_type": "code",
   "execution_count": 198,
   "id": "eb5ab865",
   "metadata": {},
   "outputs": [
    {
     "data": {
      "text/html": [
       "<div>\n",
       "<style scoped>\n",
       "    .dataframe tbody tr th:only-of-type {\n",
       "        vertical-align: middle;\n",
       "    }\n",
       "\n",
       "    .dataframe tbody tr th {\n",
       "        vertical-align: top;\n",
       "    }\n",
       "\n",
       "    .dataframe thead th {\n",
       "        text-align: right;\n",
       "    }\n",
       "</style>\n",
       "<table border=\"1\" class=\"dataframe\">\n",
       "  <thead>\n",
       "    <tr style=\"text-align: right;\">\n",
       "      <th></th>\n",
       "      <th>article_id</th>\n",
       "      <th>author_id</th>\n",
       "    </tr>\n",
       "  </thead>\n",
       "  <tbody>\n",
       "    <tr>\n",
       "      <th>0</th>\n",
       "      <td>0</td>\n",
       "      <td>0</td>\n",
       "    </tr>\n",
       "    <tr>\n",
       "      <th>1</th>\n",
       "      <td>672</td>\n",
       "      <td>0</td>\n",
       "    </tr>\n",
       "    <tr>\n",
       "      <th>2</th>\n",
       "      <td>851</td>\n",
       "      <td>0</td>\n",
       "    </tr>\n",
       "    <tr>\n",
       "      <th>3</th>\n",
       "      <td>1222</td>\n",
       "      <td>0</td>\n",
       "    </tr>\n",
       "    <tr>\n",
       "      <th>4</th>\n",
       "      <td>1845</td>\n",
       "      <td>0</td>\n",
       "    </tr>\n",
       "  </tbody>\n",
       "</table>\n",
       "</div>"
      ],
      "text/plain": [
       "   article_id  author_id\n",
       "0           0          0\n",
       "1         672          0\n",
       "2         851          0\n",
       "3        1222          0\n",
       "4        1845          0"
      ]
     },
     "execution_count": 198,
     "metadata": {},
     "output_type": "execute_result"
    }
   ],
   "source": [
    "# ===================================\n",
    "#   MODIFY TABLE 'article_author'\n",
    "# find the author_id from table 'author'\n",
    "# ===================================\n",
    "\n",
    "df_Ar_Au = df_Ar_Au.merge(df_Au, on=['author_name'])\n",
    "\n",
    "# Drop column author_name\n",
    "df_Ar_Au = df_Ar_Au.drop('author_name', axis=1)\n",
    "\n",
    "df_Ar_Au.head()"
   ]
  },
  {
   "cell_type": "markdown",
   "id": "a7ade257",
   "metadata": {},
   "source": [
    "## ======== CREATE DATABASE ========"
   ]
  },
  {
   "cell_type": "markdown",
   "id": "1650ac7c",
   "metadata": {},
   "source": [
    "There is a tool to check the SQLite DB graphically <br />\n",
    "<a href=\"https://sqlitestudio.pl/\">https://sqlitestudio.pl/</a>"
   ]
  },
  {
   "cell_type": "code",
   "execution_count": 199,
   "id": "ac041423",
   "metadata": {},
   "outputs": [],
   "source": [
    "import os, sys\n",
    "import sqlite3"
   ]
  },
  {
   "cell_type": "code",
   "execution_count": 200,
   "id": "5dfbfea1",
   "metadata": {},
   "outputs": [
    {
     "name": "stdout",
     "output_type": "stream",
     "text": [
      "['nyt_db - Kopie.db']\n"
     ]
    }
   ],
   "source": [
    "# List databases created. Those are files\n",
    "print(os.listdir('./nyt_sqlite_dbs/'))"
   ]
  },
  {
   "cell_type": "code",
   "execution_count": 201,
   "id": "21d047f1",
   "metadata": {},
   "outputs": [
    {
     "name": "stdout",
     "output_type": "stream",
     "text": [
      "Active DB name ==> ./nyt_sqlite_dbs/nyt_db.db\n"
     ]
    }
   ],
   "source": [
    "# Configure DB name to test\n",
    "PATH_DB_TEST = './nyt_sqlite_dbs/'    #  <== You have to create this directory !!\n",
    "DB_NAME_TEST = 'nyt_db.db'\n",
    "print(\"Active DB name ==>\", PATH_DB_TEST + DB_NAME_TEST)"
   ]
  },
  {
   "cell_type": "code",
   "execution_count": 202,
   "id": "c3031b98",
   "metadata": {},
   "outputs": [],
   "source": [
    "# !!!! IMPORTANT Always before closing the window !!!!\n",
    "# cursor.close()\n",
    "# conn.close()"
   ]
  },
  {
   "cell_type": "code",
   "execution_count": 203,
   "id": "51595851",
   "metadata": {},
   "outputs": [],
   "source": [
    "# DROP DATABASE ==> Remove the file\n",
    "# os.remove( PATH_DB_TEST + DB_NAME_TEST )"
   ]
  },
  {
   "cell_type": "code",
   "execution_count": 204,
   "id": "c8da8cad",
   "metadata": {},
   "outputs": [],
   "source": [
    "# ===================================\n",
    "# CREATE DATABASE\n",
    "# ===================================\n",
    "conn = sqlite3.connect(PATH_DB_TEST + DB_NAME_TEST)"
   ]
  },
  {
   "cell_type": "markdown",
   "id": "68d703a2",
   "metadata": {},
   "source": [
    "## ======== CREATE TABLES ========"
   ]
  },
  {
   "cell_type": "code",
   "execution_count": 205,
   "id": "c58e3add",
   "metadata": {},
   "outputs": [
    {
     "data": {
      "text/plain": [
       "10442"
      ]
     },
     "execution_count": 205,
     "metadata": {},
     "output_type": "execute_result"
    }
   ],
   "source": [
    "# ===================================\n",
    "# CREATE DB TABLE 'author'\n",
    "# ===================================\n",
    "conn.execute(\n",
    "'''\n",
    "CREATE TABLE IF NOT EXISTS author (\n",
    "    author_id   INTEGER PRIMARY KEY AUTOINCREMENT,\n",
    "    author_name TEXT UNIQUE\n",
    ");\n",
    "''')\n",
    "conn.commit()\n",
    "\n",
    "df_Au.to_sql('author', conn, if_exists='append', index = False)"
   ]
  },
  {
   "cell_type": "code",
   "execution_count": 206,
   "id": "268fe13d",
   "metadata": {},
   "outputs": [
    {
     "data": {
      "text/plain": [
       "126465"
      ]
     },
     "execution_count": 206,
     "metadata": {},
     "output_type": "execute_result"
    }
   ],
   "source": [
    "# ===================================\n",
    "# CREATE DB TABLE 'article'\n",
    "# ===================================\n",
    "\n",
    "conn.execute(\n",
    "'''\n",
    "CREATE TABLE IF NOT EXISTS article (\n",
    "    article_id       INTEGER UNIQUE PRIMARY KEY AUTOINCREMENT NOT NULL,\n",
    "    original_id      VARCHAR,\n",
    "    abstract         VARCHAR,\n",
    "    web_url          VARCHAR,\n",
    "    snippet          VARCHAR,\n",
    "    lead_paragraph   VARCHAR,\n",
    "    print_section    VARCHAR,\n",
    "    print_page       VARCHAR,\n",
    "    pub_date         VARCHAR,\n",
    "    document_type    VARCHAR,\n",
    "    news_desk        VARCHAR,\n",
    "    section_name     VARCHAR,\n",
    "    type_of_material VARCHAR,\n",
    "    word_count       INTEGER DEFAULT 0,\n",
    "    headline_main    VARCHAR,\n",
    "    headline_print_headline VARCHAR,\n",
    "    byline_original         VARCHAR,\n",
    "    byline_organization     VARCHAR,\n",
    "    a_date           VARCHAR,\n",
    "    a_time           VARCHAR,\n",
    "    authors          VARCHAR\n",
    ");\n",
    "''')\n",
    "conn.commit()\n",
    "\n",
    "df_Ar.to_sql('article', conn, if_exists='append', index = False)"
   ]
  },
  {
   "cell_type": "code",
   "execution_count": 207,
   "id": "7b14b575",
   "metadata": {},
   "outputs": [
    {
     "data": {
      "text/plain": [
       "144895"
      ]
     },
     "execution_count": 207,
     "metadata": {},
     "output_type": "execute_result"
    }
   ],
   "source": [
    "# ===================================\n",
    "# CREATE DB TABLE 'article_author'\n",
    "# ===================================\n",
    "conn.execute(\n",
    "'''\n",
    "CREATE TABLE IF NOT EXISTS article_author (\n",
    "    article_id        INTEGER NOT NULL,\n",
    "    author_id         INTEGER NOT NULL,\n",
    "    PRIMARY KEY ( article_id, author_id )\n",
    ");\n",
    "''')\n",
    "conn.commit()\n",
    "\n",
    "df_Ar_Au.to_sql('article_author', conn, if_exists='append', index = False)"
   ]
  },
  {
   "cell_type": "markdown",
   "id": "559429e1",
   "metadata": {},
   "source": [
    "## ======== Check DB ========"
   ]
  },
  {
   "cell_type": "code",
   "execution_count": 208,
   "id": "05caddf2",
   "metadata": {},
   "outputs": [
    {
     "name": "stdout",
     "output_type": "stream",
     "text": [
      "[('author',), ('sqlite_sequence',), ('article',), ('article_author',)]\n"
     ]
    }
   ],
   "source": [
    "# Check Created Tables\n",
    "cursor = conn.cursor()\n",
    "cursor.execute(\"SELECT name FROM sqlite_master WHERE type='table';\")\n",
    "print(cursor.fetchall())"
   ]
  },
  {
   "cell_type": "code",
   "execution_count": 209,
   "id": "c70c011a",
   "metadata": {},
   "outputs": [
    {
     "data": {
      "text/plain": [
       "[(0, 'author_id', 'INTEGER', 0, None, 1),\n",
       " (1, 'author_name', 'TEXT', 0, None, 0)]"
      ]
     },
     "execution_count": 209,
     "metadata": {},
     "output_type": "execute_result"
    }
   ],
   "source": [
    "# Check Table Schema\n",
    "cursor = conn.cursor()\n",
    "cursor.execute(\"PRAGMA table_info('author')\").fetchall()"
   ]
  },
  {
   "cell_type": "code",
   "execution_count": 210,
   "id": "66a6dacd",
   "metadata": {},
   "outputs": [
    {
     "data": {
      "text/plain": [
       "[(0, 'article_id', 'INTEGER', 1, None, 1),\n",
       " (1, 'author_id', 'INTEGER', 1, None, 2)]"
      ]
     },
     "execution_count": 210,
     "metadata": {},
     "output_type": "execute_result"
    }
   ],
   "source": [
    "# Check Table Schema\n",
    "cursor = conn.cursor()\n",
    "cursor.execute(\"PRAGMA table_info('article_author')\").fetchall()"
   ]
  },
  {
   "cell_type": "code",
   "execution_count": 211,
   "id": "0482f4db",
   "metadata": {},
   "outputs": [
    {
     "data": {
      "text/plain": [
       "[(0, 'article_id', 'INTEGER', 1, None, 1),\n",
       " (1, 'original_id', 'VARCHAR', 0, None, 0),\n",
       " (2, 'abstract', 'VARCHAR', 0, None, 0),\n",
       " (3, 'web_url', 'VARCHAR', 0, None, 0),\n",
       " (4, 'snippet', 'VARCHAR', 0, None, 0),\n",
       " (5, 'lead_paragraph', 'VARCHAR', 0, None, 0),\n",
       " (6, 'print_section', 'VARCHAR', 0, None, 0),\n",
       " (7, 'print_page', 'VARCHAR', 0, None, 0),\n",
       " (8, 'pub_date', 'VARCHAR', 0, None, 0),\n",
       " (9, 'document_type', 'VARCHAR', 0, None, 0),\n",
       " (10, 'news_desk', 'VARCHAR', 0, None, 0),\n",
       " (11, 'section_name', 'VARCHAR', 0, None, 0),\n",
       " (12, 'type_of_material', 'VARCHAR', 0, None, 0),\n",
       " (13, 'word_count', 'INTEGER', 0, '0', 0),\n",
       " (14, 'headline_main', 'VARCHAR', 0, None, 0),\n",
       " (15, 'headline_print_headline', 'VARCHAR', 0, None, 0),\n",
       " (16, 'byline_original', 'VARCHAR', 0, None, 0),\n",
       " (17, 'byline_organization', 'VARCHAR', 0, None, 0),\n",
       " (18, 'a_date', 'VARCHAR', 0, None, 0),\n",
       " (19, 'a_time', 'VARCHAR', 0, None, 0),\n",
       " (20, 'authors', 'VARCHAR', 0, None, 0)]"
      ]
     },
     "execution_count": 211,
     "metadata": {},
     "output_type": "execute_result"
    }
   ],
   "source": [
    "# Check Table Schema\n",
    "cursor = conn.cursor()\n",
    "cursor.execute(\"PRAGMA table_info('article')\").fetchall()"
   ]
  },
  {
   "cell_type": "markdown",
   "id": "d94149a8",
   "metadata": {},
   "source": [
    "## ======== Simple QUERIES TEST DB ========"
   ]
  },
  {
   "cell_type": "code",
   "execution_count": 212,
   "id": "094f6713",
   "metadata": {},
   "outputs": [
    {
     "name": "stdout",
     "output_type": "stream",
     "text": [
      "(0, 'nyt://article/e467c2ae-2df3-5836-a6ca-b23d0d335e4f', 'Our president as a terrible toddler.', 'https://www.nytimes.com/2020/09/30/opinion/presidential-debate-trump.html', 'Our president as a terrible toddler.', 'When the nation looks back on the presidential debate we witnessed this week, do you think it’ll be remembered as:', 'A', '27', '2020-10-01T00:05:51+0000', 'article', 'OpEd', 'Opinion', 'Op-Ed', 925, 'Anyone Else Want to See Trump ‘Shut Up’?', 'Anyone Else Want Trump To ‘Shut Up’?', 'By Gail Collins', None, '2020-10-01', '00:05:51.000000', 'Gail Collins')\n",
      "(1, 'nyt://article/55c14af4-0542-53ef-80aa-65e2440e69a8', 'The Lakers fell into a deficit early but fought back with a string of 3-pointers. The Heat were hobbled by injuries, a concern for the rest of the series.', 'https://www.nytimes.com/2020/09/30/sports/basketball/lakers-heat-live-game-1.html', 'The Lakers fell into a deficit early but fought back with a string of 3-pointers. The Heat were hobbled by injuries, a concern for the rest of the series.', 'LeBron James is not accustomed to Game 1s like these.', None, None, '2020-10-01T00:30:45+0000', 'article', 'Sports', 'Sports', 'News', 1723, 'How the Lakers Beat the Heat in Game 1 of the N.B.A. Finals', None, 'By Sopan Deb and Marc Stein', None, '2020-10-01', '00:30:45.000000', 'Sopan Deb, Marc Stein')\n"
     ]
    }
   ],
   "source": [
    "cursor = conn.execute('''  \n",
    "SELECT * \n",
    "FROM article\n",
    "LIMIT 2\n",
    "''')\n",
    "\n",
    "for row in cursor.fetchall():\n",
    "    print (row)"
   ]
  },
  {
   "cell_type": "code",
   "execution_count": 213,
   "id": "e117fb9b",
   "metadata": {},
   "outputs": [
    {
     "name": "stdout",
     "output_type": "stream",
     "text": [
      "(0, 'Gail Collins')\n",
      "(2200, 'Gail Cornwall')\n",
      "(3020, 'Abigail Pesta')\n",
      "(4029, 'Abigail Tarttelin')\n",
      "(4596, 'Abigail Stone')\n"
     ]
    }
   ],
   "source": [
    "cursor = conn.execute('''  \n",
    "SELECT * \n",
    "FROM author\n",
    "WHERE author_name LIKE '%Gail%'\n",
    "LIMIT 5\n",
    "''')\n",
    "\n",
    "for row in cursor.fetchall():\n",
    "    print (row)"
   ]
  },
  {
   "cell_type": "code",
   "execution_count": 214,
   "id": "4878fe31",
   "metadata": {},
   "outputs": [],
   "source": [
    "## To test with DataFrame\n",
    "# df_test = df3.loc[df3['authors'].str.contains(\"Collins\", case=False)]\n",
    "# df_test.head()"
   ]
  },
  {
   "cell_type": "code",
   "execution_count": 215,
   "id": "3d757875",
   "metadata": {},
   "outputs": [
    {
     "name": "stdout",
     "output_type": "stream",
     "text": [
      "(0, 0)\n",
      "(672, 0)\n",
      "(851, 0)\n",
      "(1222, 0)\n",
      "(1845, 0)\n"
     ]
    }
   ],
   "source": [
    "cursor = conn.execute('''  \n",
    "SELECT * \n",
    "FROM article_author\n",
    "LIMIT 5\n",
    "''')\n",
    "\n",
    "for row in cursor.fetchall():\n",
    "    print (row)"
   ]
  },
  {
   "cell_type": "markdown",
   "id": "8444e3f9",
   "metadata": {},
   "source": [
    "## ======== QUERY TEST ========"
   ]
  },
  {
   "cell_type": "code",
   "execution_count": 216,
   "id": "4334a54b",
   "metadata": {},
   "outputs": [
    {
     "name": "stdout",
     "output_type": "stream",
     "text": [
      "('Covid Isn’t Finished Messing With Politics', 'Gail Collins')\n",
      "('Covid 3.0, Biden 2.0 and Trump Number …', 'Gail Collins')\n"
     ]
    }
   ],
   "source": [
    "## Using WHERE clause\n",
    "# Show the articles headlines with the word 'covid' \n",
    "# written by 'Gail Collins'\n",
    "\n",
    "cursor = conn.execute('''  \n",
    "SELECT ar.headline_main, au.author_name \n",
    "FROM article ar, author au, article_author arau\n",
    "WHERE ar.article_id = arau.article_id\n",
    "  AND arau.author_id = au.author_id\n",
    "  AND au.author_name LIKE 'Gail Collins'\n",
    "  AND ar.headline_main LIKE '%covid%'\n",
    "LIMIT 20\n",
    "''')\n",
    "\n",
    "for row in cursor.fetchall():\n",
    "    print (row)"
   ]
  },
  {
   "cell_type": "code",
   "execution_count": 217,
   "id": "a418af05",
   "metadata": {},
   "outputs": [
    {
     "name": "stdout",
     "output_type": "stream",
     "text": [
      "('Covid Isn’t Finished Messing With Politics', 'Gail Collins')\n",
      "('Covid 3.0, Biden 2.0 and Trump Number …', 'Gail Collins')\n"
     ]
    }
   ],
   "source": [
    "## Using JOINs\n",
    "# Show the articles headlines with the word 'covid' \n",
    "# written by 'Gail Collins'\n",
    "\n",
    "cursor = conn.execute('''  \n",
    "SELECT ar.headline_main, au.author_name \n",
    "FROM article ar\n",
    "  JOIN article_author arau ON ar.article_id  = arau.article_id\n",
    "  JOIN author au           ON arau.author_id = au.author_id\n",
    "WHERE au.author_name   LIKE 'Gail Collins'\n",
    "  AND ar.headline_main LIKE '%covid%'\n",
    "LIMIT 20\n",
    "''')\n",
    "\n",
    "for row in cursor.fetchall():\n",
    "    print (row)"
   ]
  },
  {
   "cell_type": "code",
   "execution_count": 218,
   "id": "adc5e359",
   "metadata": {},
   "outputs": [
    {
     "name": "stdout",
     "output_type": "stream",
     "text": [
      "('Gail Collins', 3143)\n"
     ]
    }
   ],
   "source": [
    "## Using JOINs\n",
    "# Show the articles word count total with the word 'covid' \n",
    "# written by 'Gail Collins'\n",
    "\n",
    "cursor = conn.execute('''  \n",
    "SELECT au.author_name, SUM(ar.word_count)\n",
    "FROM article ar\n",
    "  JOIN article_author arau ON ar.article_id  = arau.article_id\n",
    "  JOIN author au           ON arau.author_id = au.author_id\n",
    "WHERE au.author_name   LIKE 'Gail Collins'\n",
    "  AND ar.headline_main LIKE '%covid%'\n",
    "LIMIT 20\n",
    "''')\n",
    "\n",
    "for row in cursor.fetchall():\n",
    "    print (row)"
   ]
  },
  {
   "cell_type": "code",
   "execution_count": 219,
   "id": "27755b4b",
   "metadata": {},
   "outputs": [
    {
     "name": "stdout",
     "output_type": "stream",
     "text": [
      "('Gail Collins', 2)\n",
      "('Abigail A. Dumes', 1)\n"
     ]
    }
   ],
   "source": [
    "## Using JOINs\n",
    "# Show the nummer of articles per author\n",
    "# who has written more articles about covid (covid in abstract)\n",
    "\n",
    "cursor = conn.execute('''  \n",
    "SELECT au.author_name, COUNT(ar.original_id) AS total_articles\n",
    "FROM article ar\n",
    "  JOIN article_author arau ON ar.article_id  = arau.article_id\n",
    "  JOIN author au           ON arau.author_id = au.author_id\n",
    "WHERE ar.headline_main LIKE '%covid%'\n",
    "  AND au.author_name LIKE '%Gail%'\n",
    "GROUP BY au.author_name\n",
    "ORDER BY total_articles DESC, au.author_name ASC\n",
    "LIMIT 20;\n",
    "''')\n",
    "\n",
    "for row in cursor.fetchall():\n",
    "    print (row)\n"
   ]
  },
  {
   "cell_type": "code",
   "execution_count": 220,
   "id": "8a292847",
   "metadata": {},
   "outputs": [
    {
     "name": "stdout",
     "output_type": "stream",
     "text": [
      "('World', 522)\n",
      "('U.S.', 438)\n",
      "('Opinion', 229)\n",
      "('Business Day', 171)\n",
      "('Health', 168)\n",
      "('Obituaries', 141)\n",
      "('New York', 119)\n",
      "('Briefing', 87)\n",
      "('Well', 75)\n",
      "('Arts', 67)\n",
      "('Sports', 51)\n",
      "('Podcasts', 49)\n",
      "('Style', 31)\n",
      "('Science', 29)\n",
      "('Magazine', 23)\n",
      "('Technology', 21)\n",
      "('Books', 20)\n",
      "('The Learning Network', 20)\n",
      "('Travel', 19)\n",
      "('Climate', 13)\n"
     ]
    }
   ],
   "source": [
    "## Using JOINs\n",
    "# Show the number of articles per section\n",
    "# with more articles about covid (covid in abstract)\n",
    "\n",
    "cursor = conn.execute('''  \n",
    "SELECT ar.section_name, COUNT(ar.original_id) AS total_articles\n",
    "FROM article ar\n",
    "  JOIN article_author arau ON ar.article_id  = arau.article_id\n",
    "  JOIN author au           ON arau.author_id = au.author_id\n",
    "WHERE ar.abstract LIKE '%covid%'\n",
    "GROUP BY ar.section_name\n",
    "ORDER BY total_articles DESC, ar.section_name ASC\n",
    "LIMIT 20;\n",
    "''')\n",
    "\n",
    "for row in cursor.fetchall():\n",
    "    print (row)"
   ]
  },
  {
   "cell_type": "markdown",
   "id": "b85aa2b9",
   "metadata": {},
   "source": [
    "## ======== INSERT  VALUE ========"
   ]
  },
  {
   "cell_type": "code",
   "execution_count": 221,
   "id": "ed7f4177",
   "metadata": {},
   "outputs": [],
   "source": [
    "# Variables from FastApi\n",
    "abstract='DfasdfDDDDDDDDDDDDDDBBBBBabstract safadsaf asdfasdf asdfasdf'\n",
    "section_name='Opinion'\n",
    "headline_main='Breaking news headline TITULARRRR'\n",
    "authors = 'Manuel Duque'"
   ]
  },
  {
   "cell_type": "code",
   "execution_count": 222,
   "id": "4d8c79dc",
   "metadata": {},
   "outputs": [
    {
     "name": "stdout",
     "output_type": "stream",
     "text": [
      "article_id last inserted in table 'article' is 126466\n"
     ]
    }
   ],
   "source": [
    "# ============================\n",
    "# INSERT NEW on table 'article'\n",
    "# ============================\n",
    "\n",
    "from datetime import datetime\n",
    "\n",
    "# datetime object containing current date and time\n",
    "now = datetime.now()\n",
    "\n",
    "# YY-mm-dd H:M:S\n",
    "a_date = now.strftime(\"%Y-%m-%d\")\n",
    "a_time = now.strftime(\"%H:%M:%S\")\n",
    "\n",
    "sql = '''  \n",
    "INSERT OR IGNORE INTO article (abstract, section_name, headline_main, a_date, a_time, authors) \n",
    "VALUES ('{abstract}', '{section_name}', '{headline_main}', '{a_date}', '{a_time}', '{authors}');\n",
    "'''\n",
    "\n",
    "# sql\n",
    "sql = sql.format(\n",
    "        abstract=abstract, \n",
    "        section_name=section_name, \n",
    "        headline_main=headline_main, \n",
    "        a_date=a_date, \n",
    "        a_time=a_time, \n",
    "        authors=authors\n",
    ")\n",
    "\n",
    "# print(sql)\n",
    "\n",
    "cursor = conn.execute(sql)\n",
    "\n",
    "article_id = cursor.lastrowid\n",
    "print(\"article_id last inserted in table 'article' is {}\".format(last_article_id))"
   ]
  },
  {
   "cell_type": "code",
   "execution_count": 223,
   "id": "25d621de",
   "metadata": {},
   "outputs": [
    {
     "name": "stdout",
     "output_type": "stream",
     "text": [
      "INSERT OR IGNORE INTO author (author_name)\n",
      "             VALUES ('Manuel Duque');\n",
      "          \n",
      "author_id last inserted in table 'author' is 10442\n",
      "10442\n"
     ]
    }
   ],
   "source": [
    "# ============================\n",
    "# INSERT NEW on table 'author'\n",
    "# ============================\n",
    "\n",
    "author_id = ''\n",
    "\n",
    "# Search author inserted\n",
    "sql = ''' \n",
    "SELECT author_id \n",
    "FROM author \n",
    "WHERE author_name LIKE '{authors}';\n",
    "'''\n",
    "sql = sql.format(authors=authors)\n",
    "\n",
    "cursor = conn.execute(sql)\n",
    "records = cursor.fetchall()\n",
    "row_count = len(records)\n",
    "\n",
    "# If author does not exist\n",
    "if row_count == 0:\n",
    "    #print(\"Author is NOT in the table 'author'\")\n",
    "    sql = '''INSERT OR IGNORE INTO author (author_name)\n",
    "             VALUES ('{authors}');\n",
    "          '''\n",
    "    sql = sql.format(authors=authors)\n",
    "    print(sql)\n",
    "    cursor = conn.execute(sql)\n",
    "    author_id = cursor.lastrowid\n",
    "    print(\"author_id last inserted in table 'author' is {}\".format(author_id))\n",
    "else:\n",
    "    author_id = records[0][0]\n",
    "    print(author_id)\n",
    "\n",
    "print(author_id)"
   ]
  },
  {
   "cell_type": "code",
   "execution_count": 224,
   "id": "7b48022e",
   "metadata": {},
   "outputs": [
    {
     "name": "stdout",
     "output_type": "stream",
     "text": [
      "INSERT OR IGNORE INTO article_author (article_id, author_id)\n",
      "             VALUES (126465, 10442);\n",
      "          \n"
     ]
    }
   ],
   "source": [
    "# ============================\n",
    "# INSERT NEW on table 'article_author'\n",
    "# ============================\n",
    "\n",
    "# Search author inserted\n",
    "sql = ''' \n",
    "SELECT article_id, author_id \n",
    "FROM article_author\n",
    "WHERE article_id = {article_id}\n",
    "  AND author_id = {author_id};\n",
    "'''\n",
    "sql = sql.format(article_id=article_id, author_id=author_id)\n",
    "\n",
    "cursor = conn.execute(sql)\n",
    "records = cursor.fetchall()\n",
    "row_count = len(records)\n",
    "\n",
    "# If author does not exist\n",
    "if row_count == 0:\n",
    "    #print(\"Author is NOT in the table 'author'\")\n",
    "    sql = '''INSERT OR IGNORE INTO article_author (article_id, author_id)\n",
    "             VALUES ({article_id}, {author_id});\n",
    "          '''\n",
    "    sql = sql.format(article_id=article_id, author_id=author_id)\n",
    "    print(sql)\n",
    "    cursor = conn.execute(sql)\n",
    "else:\n",
    "    #author_id = records[0][0]\n",
    "    print(records)"
   ]
  },
  {
   "cell_type": "code",
   "execution_count": 225,
   "id": "75544d73",
   "metadata": {},
   "outputs": [],
   "source": [
    "conn.commit()"
   ]
  },
  {
   "cell_type": "code",
   "execution_count": 226,
   "id": "810409ab",
   "metadata": {},
   "outputs": [
    {
     "name": "stdout",
     "output_type": "stream",
     "text": [
      "<sqlite3.Cursor object at 0x000001C342A5F880>\n",
      "(126465, None, 'DfasdfDDDDDDDDDDDDDDBBBBBabstract safadsaf asdfasdf asdfasdf', None, None, None, None, None, None, None, None, 'Opinion', None, 0, 'Breaking news headline TITULARRRR', None, None, None, '2022-12-07', '02:25:56', 'Manuel Duque')\n"
     ]
    }
   ],
   "source": [
    "cursor = conn.execute(''' \n",
    "SELECT * FROM article WHERE authors = 'Manuel Duque';\n",
    "''')\n",
    "print(cursor)\n",
    "for row in cursor.fetchall():\n",
    "    print (row)"
   ]
  },
  {
   "cell_type": "code",
   "execution_count": 227,
   "id": "615718d5",
   "metadata": {},
   "outputs": [
    {
     "name": "stdout",
     "output_type": "stream",
     "text": [
      "(126465, 'Breaking news headline TITULARRRR', 10442, 'Manuel Duque')\n"
     ]
    }
   ],
   "source": [
    "## Using JOINs\n",
    "# Show the articles headlines with the word 'covid' \n",
    "# written by 'Manuel Duque'\n",
    "\n",
    "cursor = conn.execute('''  \n",
    "SELECT ar.article_id, ar.headline_main, au.author_id, au.author_name \n",
    "FROM article ar\n",
    "  JOIN article_author arau ON ar.article_id  = arau.article_id\n",
    "  JOIN author au           ON arau.author_id = au.author_id\n",
    "WHERE au.author_name   LIKE 'Manuel Duque'\n",
    "LIMIT 20\n",
    "''')\n",
    "\n",
    "for row in cursor.fetchall():\n",
    "    print (row)"
   ]
  },
  {
   "cell_type": "markdown",
   "id": "b24127ef",
   "metadata": {},
   "source": [
    "## ======== CLOSE SESSION ========"
   ]
  },
  {
   "cell_type": "code",
   "execution_count": 179,
   "id": "ffe93760",
   "metadata": {},
   "outputs": [],
   "source": [
    "# !!!! IMPORTANT Always !!!!\n",
    "# cursor.close()\n",
    "# conn.close()"
   ]
  },
  {
   "cell_type": "code",
   "execution_count": 180,
   "id": "eb3a52a1",
   "metadata": {},
   "outputs": [],
   "source": [
    "# DROP DATABASE ==> Remove the file\n",
    "# os.remove( PATH_DB_TEST + DB_NAME_TEST )"
   ]
  },
  {
   "cell_type": "code",
   "execution_count": null,
   "id": "8a266730",
   "metadata": {},
   "outputs": [],
   "source": [
    "### COMMENT:\n",
    "# I think it is better not to implement this \n",
    "# because it makes the things more complicated\n",
    "\n",
    "# # CREATE TABLE section\n",
    "# connection.execute(\n",
    "# '''\n",
    "# CREATE TABLE IF NOT EXISTS section (\n",
    "#     id_section_name  INTEGER PRIMARY KEY AUTOINCREMENT,\n",
    "#     section_name     TEXT\n",
    "# );\n",
    "# ''')\n",
    "\n",
    "# # CREATE TABLE newsdesk\n",
    "# connection.execute(\n",
    "# '''\n",
    "# CREATE TABLE IF NOT EXISTS newsdesk (\n",
    "#     id_news_desk     INTEGER PRIMARY KEY AUTOINCREMENT,\n",
    "#     news_desk_name   TEXT\n",
    "# );\n",
    "# ''')"
   ]
  },
  {
   "cell_type": "markdown",
   "id": "5701dad1",
   "metadata": {},
   "source": [
    "## ====================================="
   ]
  }
 ],
 "metadata": {
  "kernelspec": {
   "display_name": "Python 3 (ipykernel)",
   "language": "python",
   "name": "python3"
  },
  "language_info": {
   "codemirror_mode": {
    "name": "ipython",
    "version": 3
   },
   "file_extension": ".py",
   "mimetype": "text/x-python",
   "name": "python",
   "nbconvert_exporter": "python",
   "pygments_lexer": "ipython3",
   "version": "3.9.12"
  }
 },
 "nbformat": 4,
 "nbformat_minor": 5
}
