{
 "cells": [
  {
   "cell_type": "markdown",
   "id": "36fdad02",
   "metadata": {},
   "source": [
    "# Elastic Search Part"
   ]
  },
  {
   "cell_type": "markdown",
   "id": "a7241c29",
   "metadata": {},
   "source": [
    "### How to install Elastic Search and Kibana\n",
    "\n",
    "https://www.youtube.com/watch?v=A2Pa2GJJN4A"
   ]
  },
  {
   "cell_type": "markdown",
   "id": "61aa7458",
   "metadata": {},
   "source": [
    "### How to run Elastic Search and Kibana servers\n",
    "<br />\n",
    "==> Elastic Search<br />\n",
    "open a new console (not as administrator)<br />\n",
    "cd C:\\elasticsearch\\elasticsearch-8.5.2-windows-x86_64\\elasticsearch-8.5.2\\bin<br />\n",
    "run elasticsearch.bat<br />\n",
    "This run the elastic search server. Let this open<br />\n",
    "<br />\n",
    "==> Kibana<br />\n",
    "open a new console (not as administrator)<br />\n",
    "cd C:\\elasticsearch\\kibana-8.5.2-windows-x86_64\\kibana-8.5.2\\bin<br />\n",
    "run kibana.bat<br />\n",
    "This run the kibana server. Let this open<br />"
   ]
  },
  {
   "cell_type": "markdown",
   "id": "445a02eb",
   "metadata": {},
   "source": [
    "### How to query in a Browser\n",
    "<br />\n",
    "==> Elastic Search<br />\n",
    "<a href=\"http://localhost:9200/\">http://localhost:9200/</a><br />\n",
    "only check if is ok<br />\n",
    "<br />\n",
    "=======<br />\n",
    "<br />\n",
    "==> Kibana:<br />\n",
    "<a href=\"http://localhost:5601/app/dev_tools#/console\">http://localhost:5601/app/dev_tools#/console</a><br />\n",
    "<br />\n",
    "In my case:<br />\n",
    "    user = elastic<br />\n",
    "    password = elastic<br />"
   ]
  },
  {
   "cell_type": "markdown",
   "id": "211d2fe5",
   "metadata": {},
   "source": [
    "## ================================="
   ]
  },
  {
   "cell_type": "code",
   "execution_count": 9,
   "id": "1229fc72",
   "metadata": {},
   "outputs": [],
   "source": [
    "#! /usr/bin/python\n",
    "from elasticsearch import Elasticsearch, helpers\n",
    "import csv\n",
    "\n",
    "# Connection\n",
    "es = Elasticsearch(\n",
    "    hosts = \"http://@localhost:9200\",\n",
    "    basic_auth = (\"elastic\", 'elastic')\n",
    ")"
   ]
  },
  {
   "cell_type": "code",
   "execution_count": 6,
   "id": "8f3b5723",
   "metadata": {},
   "outputs": [
    {
     "data": {
      "text/plain": [
       "ObjectApiResponse({'acknowledged': True})"
      ]
     },
     "execution_count": 6,
     "metadata": {},
     "output_type": "execute_result"
    }
   ],
   "source": [
    "# # Delete index ES 8.+\n",
    "# es.options(ignore_status=[400,404]).indices.delete(index='articles')"
   ]
  },
  {
   "cell_type": "code",
   "execution_count": 10,
   "id": "5ed537fe",
   "metadata": {},
   "outputs": [],
   "source": [
    "# Read file and create index\n",
    "with open('nyt_data_for_elasticsearch.csv', encoding='utf-8') as f:\n",
    "    reader = csv.DictReader(f)\n",
    "    helpers.bulk(es, reader, index='articles')"
   ]
  },
  {
   "cell_type": "markdown",
   "id": "cac59c12",
   "metadata": {},
   "source": [
    "## ================================="
   ]
  },
  {
   "cell_type": "markdown",
   "id": "f0694f02",
   "metadata": {},
   "source": [
    "Continuar con\n",
    "https://marcobonzanini.com/2015/02/02/how-to-query-elasticsearch-with-python/\n",
    "\n",
    "https://elasticsearch-py.readthedocs.io/en/v8.5.2/\n",
    "\n",
    "https://kb.objectrocket.com/elasticsearch/how-to-use-the-search-api-for-the-python-elasticsearch-client-265"
   ]
  },
  {
   "cell_type": "markdown",
   "id": "4c19686c",
   "metadata": {},
   "source": [
    "Some queries on kibana\n",
    "\n",
    "```json\n",
    "GET /_cat/indices\n",
    "\n",
    "GET /articles/_search\n",
    "\n",
    "GET /articles/_search\n",
    "{\n",
    "  \"_source\": [\"abstract\"],\n",
    "  \"query\": {\n",
    "    \"match\": {\n",
    "      \"abstract\": {\n",
    "        \"query\": \"covid omicron\",\n",
    "        \"operator\": \"and\"\n",
    "      }\n",
    "    }\n",
    "  }\n",
    "}\n",
    "```"
   ]
  }
 ],
 "metadata": {
  "kernelspec": {
   "display_name": "Python 3 (ipykernel)",
   "language": "python",
   "name": "python3"
  },
  "language_info": {
   "codemirror_mode": {
    "name": "ipython",
    "version": 3
   },
   "file_extension": ".py",
   "mimetype": "text/x-python",
   "name": "python",
   "nbconvert_exporter": "python",
   "pygments_lexer": "ipython3",
   "version": "3.9.12"
  }
 },
 "nbformat": 4,
 "nbformat_minor": 5
}
